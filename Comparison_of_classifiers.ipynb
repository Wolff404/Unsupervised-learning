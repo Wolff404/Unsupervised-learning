{
 "cells": [
  {
   "cell_type": "code",
   "execution_count": 17,
   "metadata": {},
   "outputs": [],
   "source": [
    "import pandas as pd\n"
   ]
  },
  {
   "cell_type": "markdown",
   "metadata": {},
   "source": [
    "# Comparison of Classifiers for the Breast Cancer Prediction\n",
    "\n",
    "In this assignment we have been given the task to create a Decision Tree Classifier and a Naive Bayes Classifier, and compare the results of the two, from the given dataset.\n",
    "\n",
    "### *The dataset*\n",
    "We have been given the dataset Breast Cancer Prediction dataset. It contains data from cell nucleus in breast tissue, which is designed to assist diagnosing breastcancer. It's structured somewhat like the following\n",
    "\n",
    " - Consists of 569 instances/observations. \n",
    " - Has 30 numerical features. Excluding ID and diagnosis.\n",
    " - It's a classification problem\n",
    "\n",
    "\n",
    "#### *What is the purpose of this dataset?*\n",
    "The purpose of this dataset is \n",
    "\n",
    "#### *What are the features?*\n",
    "The features are numeric values that describe \n",
    "\n",
    "#### *What are the targets?*\n",
    "M and B, will act as our boolean outputs/targets. Where B is benign, which will act as our boolean 0. The M is malignant, the counterpart of the benign, will act as our boolean 1.\n",
    "\n",
    "(It's worth noting that the writer has absolutely no grasp of how to describe a cancer tumour in a binary form. Therefore it will be simplified to as follows. B is for when the tumor is benign, and M is tumor is malignant.)\n"
   ]
  }
 ],
 "metadata": {
  "kernelspec": {
   "display_name": "Python 3",
   "language": "python",
   "name": "python3"
  },
  "language_info": {
   "codemirror_mode": {
    "name": "ipython",
    "version": 3
   },
   "file_extension": ".py",
   "mimetype": "text/x-python",
   "name": "python",
   "nbconvert_exporter": "python",
   "pygments_lexer": "ipython3",
   "version": "3.12.4"
  }
 },
 "nbformat": 4,
 "nbformat_minor": 2
}
