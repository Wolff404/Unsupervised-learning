{
 "cells": [
  {
   "cell_type": "markdown",
   "metadata": {
    "collapsed": false
   },
   "source": [
    "# The Decision Tree done manually\n",
    "\n",
    "*A document with the equations by hand will be included in the delivery.*\n",
    "\n",
    "1. We started by setting our target values from the different flowers into integers.\n",
    "\n",
    "$$Iris-setosa = 1$$\n",
    "$$Iris-versicolor = 2$$\n",
    "$$Iris-viriginica = 3$$\n",
    "\n",
    "2. We then decided the split for the first feature in the dataset, which we will call x[0]\n",
    "3. Then we found the lowest SSR of the split.\n",
    "\n",
    "The formula for our average\n",
    "\n",
    "$$ \\hat{y} = \\frac{1}{n_m} \\sum_{y\\in Q_m}^{} y $$\n",
    "\n",
    "The formula for SSE\n",
    "\n",
    "\n",
    "$$ H(Q_m) = \\sum_{y\\in Q_m}^{} (y - \\hat{y})^2 $$\n",
    "\n",
    "\n",
    "\n",
    "4. We will show an example of how to do the first three splits of the first feature and finding the SSE.\n",
    "\n",
    "\n",
    "For our first split at 4,5\n",
    "\n",
    "$$\\hat{y}_1 = \\frac{1}{2}\\sum_{i=1}^{2}y_i = 1 $$\n",
    "$$\\hat{y}_2 = \\frac{1}{10}\\sum_{i=3}^{12}y_i = 2.2 $$\n",
    "$$SSE = \\sum_{y\\in Q_m}^{} (y - \\hat{y})^2 = 5.6 $$\n",
    "\n",
    "Our secound split at 4.75\n",
    "\n",
    "$$\\hat{y}_1 = \\frac{1}{3}\\sum_{i=1}^{3}y_i = 1 $$\n",
    "$$\\hat{y}_2 = \\frac{1}{9}\\sum_{i=4}^{12}y_i = 2.3 $$\n",
    "$$SSE = \\sum_{y\\in Q_m}^{} (y - \\hat{y})^2 = 4.00$$\n",
    "\n",
    "Our third split at 5.3 where we find our lowest SSE of the feature.\n",
    "\n",
    "$$\\hat{y}_1 = \\frac{1}{4}\\sum_{i=1}^{4}y_i = 1 $$\n",
    "$$\\hat{y}_2 = \\frac{1}{8}\\sum_{i=5}^{12}y_i = 2.5 $$\n",
    "$$SSE = \\sum_{y\\in Q_m}^{} (y - \\hat{y})^2 = 2$$\n",
    "\n",
    "5. We choose the lowest SSE which will be our threshold to split by. So in the first feature, its 2.\n",
    "6. In the included document, the other features have been highlighted with the lowest SSR.\n",
    "\n",
    "\n",
    "\n",
    "\n"
   ]
  },
  {
   "cell_type": "markdown",
   "metadata": {
    "collapsed": false
   },
   "source": []
  }
 ],
 "metadata": {
  "kernelspec": {
   "display_name": "Python 3",
   "language": "python",
   "name": "python3"
  },
  "language_info": {
   "codemirror_mode": {
    "name": "ipython",
    "version": 2
   },
   "file_extension": ".py",
   "mimetype": "text/x-python",
   "name": "python",
   "nbconvert_exporter": "python",
   "pygments_lexer": "ipython2",
   "version": "2.7.6"
  }
 },
 "nbformat": 4,
 "nbformat_minor": 0
}
